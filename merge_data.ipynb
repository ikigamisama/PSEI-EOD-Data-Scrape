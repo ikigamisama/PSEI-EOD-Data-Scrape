{
 "cells": [
  {
   "cell_type": "code",
   "execution_count": 1,
   "metadata": {},
   "outputs": [],
   "source": [
    "import os\n",
    "import pandas as pd"
   ]
  },
  {
   "cell_type": "code",
   "execution_count": 2,
   "metadata": {},
   "outputs": [],
   "source": [
    "stock_data = []\n",
    "for data_list in os.listdir('data'):\n",
    "    stock_df = {}\n",
    "    stock_df[data_list.split('.')[0]] = pd.read_csv(f'data/{data_list}')\n",
    "    stock_df[data_list.split('.')[0]] = stock_df[data_list.split('.')[0]][['Date', 'Close', 'Volume']]\n",
    "    stock_df[data_list.split('.')[0]]['Name'] = data_list.split('.')[0]\n",
    "\n",
    "    stock_data.append(stock_df[data_list.split('.')[0]])\n",
    "\n",
    "stock_data = pd.concat(stock_data, axis=0)"
   ]
  },
  {
   "cell_type": "code",
   "execution_count": 3,
   "metadata": {},
   "outputs": [],
   "source": [
    "stock_data_df = stock_data.pivot(index=\"Date\",columns='Name', values='Close')\n",
    "stock_data_df.ffill(inplace=True)\n",
    "stock_data_df.dropna(inplace=True)\n",
    "stock_data_df.to_csv('psei_stock_close_data.csv')"
   ]
  },
  {
   "cell_type": "code",
   "execution_count": 4,
   "metadata": {},
   "outputs": [],
   "source": [
    "stock_data.to_csv('psei_close_volume_data.csv')"
   ]
  },
  {
   "cell_type": "code",
   "execution_count": null,
   "metadata": {},
   "outputs": [],
   "source": []
  }
 ],
 "metadata": {
  "kernelspec": {
   "display_name": "Python 3",
   "language": "python",
   "name": "python3"
  },
  "language_info": {
   "codemirror_mode": {
    "name": "ipython",
    "version": 3
   },
   "file_extension": ".py",
   "mimetype": "text/x-python",
   "name": "python",
   "nbconvert_exporter": "python",
   "pygments_lexer": "ipython3",
   "version": "3.11.4"
  }
 },
 "nbformat": 4,
 "nbformat_minor": 2
}
